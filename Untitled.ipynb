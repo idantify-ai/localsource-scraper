{
 "cells": [
  {
   "cell_type": "code",
   "execution_count": 59,
   "metadata": {},
   "outputs": [],
   "source": [
    "import json\n",
    "import requests\n",
    "\n",
    "#id names that are compatible with the SpecimenClassifier API\n",
    "idList = [\"domainId\", \"kingdomId\", \"phylumId\", \"classId\", \"orderId\", \"familyId\", \"genusId\", \"imagesId\"]\n",
    "\n",
    "#default id integer list, these values will be updated later\n",
    "#idIntList = [_domainId, _kingdomId, _phylumId, _classId, _orderId, _familyId, _genusId, _speciesId]\n",
    "\n",
    "#default taxonomy list, these values will be updated later\n",
    "taxonomyList = [\"eukarya\", \"animalia\", \"arthropoda\", \"class\", \"order\", \"family\", \"genus\", \"species\"]\n",
    "\n",
    "\n",
    "db_url = \"http://tclasol-jkj3dh2.dhcp.asu.edu:81/api/genera\"\n",
    "payload = {\"genus\": \"polyergus\"}\n",
    "headers = {'content-type': 'application/json'}\n",
    "\n",
    "r = requests.get(\"http://tclasol-jkj3dh2.dhcp.asu.edu:81/api/genera\", params = payload, headers = headers)\n"
   ]
  },
  {
   "cell_type": "code",
   "execution_count": 63,
   "metadata": {},
   "outputs": [
    {
     "name": "stdout",
     "output_type": "stream",
     "text": [
      "1234\n"
     ]
    }
   ],
   "source": [
    "if (r.status_code == 200):\n",
    "    genusID = 1234\n",
    "    print(genusID)\n",
    "else:\n",
    "    print(\"Genus not found\")"
   ]
  },
  {
   "cell_type": "code",
   "execution_count": 130,
   "metadata": {},
   "outputs": [
    {
     "data": {
      "text/plain": [
       "'27/1/1/147/145/92926/98083/235227/t/1234567890.jpg'"
      ]
     },
     "execution_count": 130,
     "metadata": {},
     "output_type": "execute_result"
    }
   ],
   "source": [
    "from os.path    import join\n",
    "\n",
    "db_path   = \"\"\n",
    "genus     = \"polyergus\"\n",
    "species   = \"sp\"\n",
    "headers   = {'content-type': 'application/json'}\n",
    "\n",
    "payload   = {\"name\": \"eukarya\"}\n",
    "r         = requests.post(\"http://tclasol-jkj3dh2.dhcp.asu.edu:81/api/domains\", data=json.dumps(payload), headers = headers)\n",
    "response  = json.loads(r.content)\n",
    "domainId  = response['id']\n",
    "\n",
    "payload   = {\"domainId\": domainId, \"name\": \"animalia\"}\n",
    "r         = requests.post(\"http://tclasol-jkj3dh2.dhcp.asu.edu:81/api/kingdoms\", data=json.dumps(payload), headers = headers)\n",
    "response  = json.loads(r.content)\n",
    "kingdomId = response['id']\n",
    "\n",
    "payload   = {\"kingdomId\": kingdomId, \"name\": \"arthropoda\"}\n",
    "r         = requests.post(\"http://tclasol-jkj3dh2.dhcp.asu.edu:81/api/phyla\", data=json.dumps(payload), headers = headers)\n",
    "response  = json.loads(r.content)\n",
    "phylumId  = response['id']\n",
    "\n",
    "payload   = {\"phylumId\": phylumId, \"name\": \"class\"}\n",
    "r         = requests.post(\"http://tclasol-jkj3dh2.dhcp.asu.edu:81/api/classes\", data=json.dumps(payload), headers = headers)\n",
    "response  = json.loads(r.content)\n",
    "classId   = response['id']\n",
    "\n",
    "payload   = {\"classId\": classId, \"name\": \"order\"}\n",
    "r         = requests.post(\"http://tclasol-jkj3dh2.dhcp.asu.edu:81/api/orders\", data=json.dumps(payload), headers = headers)\n",
    "response  = json.loads(r.content)\n",
    "orderId   = response['id']\n",
    "\n",
    "payload   = {\"orderId\": orderId, \"name\": \"family\"}\n",
    "r         = requests.post(\"http://tclasol-jkj3dh2.dhcp.asu.edu:81/api/families\", data=json.dumps(payload), headers = headers)\n",
    "response  = json.loads(r.content)\n",
    "familyId  = response['id']\n",
    "\n",
    "payload   = {\"familyId\": familyId, \"name\": genus.lower()}\n",
    "r         = requests.post(\"http://tclasol-jkj3dh2.dhcp.asu.edu:81/api/genera\", data=json.dumps(payload), headers = headers)\n",
    "response  = json.loads(r.content)\n",
    "genusId   = response['id']\n",
    "\n",
    "payload   = {\"genusId\": genusId, \"name\": species.lower()}\n",
    "r         = requests.post(\"http://tclasol-jkj3dh2.dhcp.asu.edu:81/api/species\", data=json.dumps(payload), headers = headers)\n",
    "response  = json.loads(r.content)\n",
    "speciesId = response['id']\n",
    "\n",
    "\n",
    "imageId = 1234567890\n",
    "dest_path  = join(str(db_path), str(domainId), str(kingdomId), str(phylumId), str(classId), str(orderId), str(familyId), str(genusId), str(speciesId), str(\"t\"))\n",
    "filename  = join(dest_path, str(imageId) + \".jpg\")\n",
    "filename"
   ]
  },
  {
   "cell_type": "code",
   "execution_count": 125,
   "metadata": {},
   "outputs": [
    {
     "data": {
      "text/plain": [
       "[{'id': 1, 'name': 'Head Shot', 'scrapedSourceId': 0, 'sourceKey': 'h'},\n",
       " {'id': 2, 'name': 'Dorsal Shot', 'scrapedSourceId': 0, 'sourceKey': 'd'},\n",
       " {'id': 3, 'name': 'Profile Shot', 'scrapedSourceId': 0, 'sourceKey': 'p'},\n",
       " {'id': 4, 'name': 'Label', 'scrapedSourceId': 0, 'sourceKey': 'l'}]"
      ]
     },
     "execution_count": 125,
     "metadata": {},
     "output_type": "execute_result"
    }
   ],
   "source": [
    "r         = requests.get(\"http://tclasol-jkj3dh2.dhcp.asu.edu:81/api/image-shot-types\", headers = headers)\n",
    "shottypes = json.loads(r.content)\n",
    "sttypesId = [st for st in shottypes if st[\"sourceKey\"] == \"h\"][0][\"id\"]\n",
    "if sttypesId < 1 or sttypesId > 4: \n",
    "    sttypesId = 4\n",
    "shottypes"
   ]
  },
  {
   "cell_type": "code",
   "execution_count": 115,
   "metadata": {},
   "outputs": [
    {
     "data": {
      "text/plain": [
       "'asdcds'"
      ]
     },
     "execution_count": 115,
     "metadata": {},
     "output_type": "execute_result"
    }
   ],
   "source": [
    "payload   = {\"genusId\": genusId, \"name\": species.lower()}\n",
    "r         = requests.post(\"http://tclasol-jkj3dh2.dhcp.asu.edu:81/api/species\", data=json.dumps(payload), headers = headers)\n",
    "response  = json.loads(r.content)\n",
    "speciesId = response['id']"
   ]
  },
  {
   "cell_type": "code",
   "execution_count": 132,
   "metadata": {},
   "outputs": [
    {
     "data": {
      "text/plain": [
       "'.jpg'"
      ]
     },
     "execution_count": 132,
     "metadata": {},
     "output_type": "execute_result"
    }
   ],
   "source": [
    "from os.path    import isfile, isdir, splitext, exists, join\n",
    "\n",
    "fname = \"asdfghj.jpg\"\n",
    "splitext(fname)[1]"
   ]
  },
  {
   "cell_type": "code",
   "execution_count": 137,
   "metadata": {},
   "outputs": [
    {
     "data": {
      "text/plain": [
       "200"
      ]
     },
     "execution_count": 137,
     "metadata": {},
     "output_type": "execute_result"
    }
   ],
   "source": [
    "api_url = \"http://tclasol-jkj3dh2.dhcp.asu.edu:81/api/\"\n",
    "headers   = {'content-type': 'application/json'}\n",
    "r         = requests.get(api_url + \"image-shot-types\", headers = headers)\n",
    "r.status_code"
   ]
  },
  {
   "cell_type": "code",
   "execution_count": 139,
   "metadata": {},
   "outputs": [
    {
     "data": {
      "text/plain": [
       "True"
      ]
     },
     "execution_count": 139,
     "metadata": {},
     "output_type": "execute_result"
    }
   ],
   "source": [
    "1 != 3"
   ]
  },
  {
   "cell_type": "code",
   "execution_count": null,
   "metadata": {},
   "outputs": [],
   "source": []
  }
 ],
 "metadata": {
  "kernelspec": {
   "display_name": "Python 3",
   "language": "python",
   "name": "python3"
  },
  "language_info": {
   "codemirror_mode": {
    "name": "ipython",
    "version": 3
   },
   "file_extension": ".py",
   "mimetype": "text/x-python",
   "name": "python",
   "nbconvert_exporter": "python",
   "pygments_lexer": "ipython3",
   "version": "3.6.4"
  }
 },
 "nbformat": 4,
 "nbformat_minor": 2
}
